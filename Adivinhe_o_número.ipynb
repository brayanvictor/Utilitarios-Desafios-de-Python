{
  "nbformat": 4,
  "nbformat_minor": 0,
  "metadata": {
    "colab": {
      "provenance": [],
      "authorship_tag": "ABX9TyO9yFgfcV8CjRLY4KFy9QO0",
      "include_colab_link": true
    },
    "kernelspec": {
      "name": "python3",
      "display_name": "Python 3"
    },
    "language_info": {
      "name": "python"
    }
  },
  "cells": [
    {
      "cell_type": "markdown",
      "metadata": {
        "id": "view-in-github",
        "colab_type": "text"
      },
      "source": [
        "<a href=\"https://colab.research.google.com/github/brayanvictor/Utilitarios-Desafios-de-Python/blob/main/Adivinhe_o_n%C3%BAmero.ipynb\" target=\"_parent\"><img src=\"https://colab.research.google.com/assets/colab-badge.svg\" alt=\"Open In Colab\"/></a>"
      ]
    },
    {
      "cell_type": "code",
      "execution_count": null,
      "metadata": {
        "colab": {
          "base_uri": "https://localhost:8080/"
        },
        "id": "YW1DgYVCVeDG",
        "outputId": "aa24d061-fd06-4732-d491-e9c3063da255"
      },
      "outputs": [
        {
          "output_type": "stream",
          "name": "stdout",
          "text": [
            "Adivinhe o número! (Aperte \"Enter\" com a caixa em branco para fechar o programa)\n",
            "Coloque um número como o maximo e veja se você consegue adivinhar o número.\n",
            "\n",
            "Escolha um número maximo: de\n",
            "Digite um número.\n",
            "\n",
            "Escolha um número maximo: fesf\n",
            "Digite um número.\n",
            "\n",
            "Escolha um número maximo: fesfe\n",
            "Digite um número.\n",
            "\n",
            "Escolha um número maximo: 10\n",
            "Digite um númedo de 0 a 10: 2\n",
            "Você Errou! O número era 3\n",
            "\n",
            "Escolha um número maximo: \n",
            "Obrigado por Jogar!\n"
          ]
        }
      ],
      "source": [
        "import random\n",
        "\n",
        "print(\n",
        "    'Adivinhe o número! (Aperte \"Enter\" com a caixa em branco para fechar o programa)\\n'\n",
        "'Coloque um número como o maximo e veja se você consegue adivinhar o número.\\n')\n",
        "\n",
        "while True:\n",
        " try:\n",
        "  maximo = (input(\"Escolha um número maximo: \"))\n",
        "  if maximo == \"\":\n",
        "   print(\"Obrigado por Jogar!\")\n",
        "   break\n",
        "  while True:\n",
        "   if maximo.isnumeric():\n",
        "    break\n",
        "   else:\n",
        "    print(\"Digite um número.\\n\")\n",
        "    break\n",
        "\n",
        "  maximo = int(maximo)\n",
        "  numero = random.randrange(maximo)\n",
        "  #print(f\"DEBUG: O número escolhido foi: {numero}\")\n",
        "  #tire ou coloque o # do print para ver a resposta antes de tentar. (estragando o jogo :( )\n",
        "  tentativa = int(input(f\"Digite um númedo de 0 a {maximo}: \"))\n",
        "\n",
        "  if tentativa == numero:\n",
        "   print(f\"Você Acertou! O número era {numero}\\n\")\n",
        "  else:\n",
        "   print(f\"Você Errou! O número era {numero}\\n\")\n",
        "\n",
        " except:\n",
        "  continue"
      ]
    }
  ]
}