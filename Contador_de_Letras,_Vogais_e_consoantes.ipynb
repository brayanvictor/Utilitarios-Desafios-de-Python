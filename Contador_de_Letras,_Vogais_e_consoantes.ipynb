{
  "nbformat": 4,
  "nbformat_minor": 0,
  "metadata": {
    "colab": {
      "provenance": [],
      "authorship_tag": "ABX9TyMpFsFR82ghlMyft+TWIvwx"
    },
    "kernelspec": {
      "name": "python3",
      "display_name": "Python 3"
    },
    "language_info": {
      "name": "python"
    }
  },
  "cells": [
    {
      "cell_type": "code",
      "execution_count": null,
      "metadata": {
        "id": "12QhgcDa5nwj"
      },
      "outputs": [],
      "source": [
        "print('Contator de Letras e Vogais.\\n(Aperte \"Enter\" com a caixa em branco para fechar o programa)\\n')\n",
        "\n",
        "while True:\n",
        "  palavra = input(\"Digite uma palavra: \")\n",
        "  if palavra == \"\":\n",
        "    print(\"Obrigado por utilizar meu código!\")\n",
        "    break\n",
        "  cvogais = 0\n",
        "  cconsoantes = 0\n",
        "\n",
        "  for vogais in palavra:\n",
        "    if vogais.lower() in \"aeiou\":\n",
        "     cvogais += 1\n",
        "\n",
        "  for consoantes in palavra:\n",
        "    if consoantes.lower() in \"bcdfghjklmnpqrstvwxyz\":\n",
        "     cconsoantes += 1\n",
        "\n",
        "  cletras = cvogais + cconsoantes\n",
        "\n",
        "  print(f\"Essa palavra tem {cletras} letras, {cvogais} vogais e {cconsoantes} consoantes\\n\")\n",
        "  continue"
      ]
    }
  ]
}